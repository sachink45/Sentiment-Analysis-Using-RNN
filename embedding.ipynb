{
 "cells": [
  {
   "cell_type": "code",
   "execution_count": 8,
   "id": "b2844cab",
   "metadata": {},
   "outputs": [],
   "source": [
    "from tensorflow.keras.preprocessing.text import one_hot\n",
    "import numpy as np\n",
    "import pandas as pd"
   ]
  },
  {
   "cell_type": "code",
   "execution_count": 4,
   "id": "c37c51c2",
   "metadata": {},
   "outputs": [
    {
     "data": {
      "text/plain": [
       "['my name is sachin',\n",
       " 'i am 26 years old',\n",
       " 'i live in the uk',\n",
       " 'physco thats the wrong number']"
      ]
     },
     "execution_count": 4,
     "metadata": {},
     "output_type": "execute_result"
    }
   ],
   "source": [
    "input = ['my name is sachin',\n",
    "         'i am 26 years old',\n",
    "         'i live in the uk',\n",
    "         'physco thats the wrong number']\n",
    "input"
   ]
  },
  {
   "cell_type": "code",
   "execution_count": 5,
   "id": "fdf835d7",
   "metadata": {},
   "outputs": [
    {
     "data": {
      "text/plain": [
       "[[7840, 5973, 6322, 3888],\n",
       " [7302, 3614, 2362, 7691, 1665],\n",
       " [7302, 5167, 5524, 7280, 9163],\n",
       " [7590, 3178, 7280, 6547, 626]]"
      ]
     },
     "execution_count": 5,
     "metadata": {},
     "output_type": "execute_result"
    }
   ],
   "source": [
    "# def vocb size\n",
    "voc_size = 10000\n",
    "\n",
    "one_hot_rep = [one_hot(words, voc_size)for words in input]\n",
    "one_hot_rep\n"
   ]
  },
  {
   "cell_type": "code",
   "execution_count": null,
   "id": "ee0f7c09",
   "metadata": {},
   "outputs": [],
   "source": [
    "from tensorflow.keras.layers import Embedding\n",
    "from tensorflow.keras.utils import pad_sequences\n",
    "from tensorflow.keras.models import Sequential"
   ]
  },
  {
   "cell_type": "code",
   "execution_count": 10,
   "id": "8260b3df",
   "metadata": {},
   "outputs": [
    {
     "data": {
      "text/plain": [
       "array([[   0, 7840, 5973, 6322, 3888],\n",
       "       [7302, 3614, 2362, 7691, 1665],\n",
       "       [7302, 5167, 5524, 7280, 9163],\n",
       "       [7590, 3178, 7280, 6547,  626]])"
      ]
     },
     "execution_count": 10,
     "metadata": {},
     "output_type": "execute_result"
    }
   ],
   "source": [
    "input_lenth = 5\n",
    "embed_docs = pad_sequences(one_hot_rep, padding='pre', maxlen=input_lenth)\n",
    "embed_docs"
   ]
  },
  {
   "cell_type": "code",
   "execution_count": 12,
   "id": "74352df3",
   "metadata": {},
   "outputs": [
    {
     "name": "stdout",
     "output_type": "stream",
     "text": [
      "WARNING:tensorflow:From f:\\LLMS\\Deep Learning\\venv\\Lib\\site-packages\\keras\\src\\optimizers\\__init__.py:309: The name tf.train.Optimizer is deprecated. Please use tf.compat.v1.train.Optimizer instead.\n",
      "\n"
     ]
    }
   ],
   "source": [
    "# feature representation\n",
    "dim = 8\n",
    "\n",
    "model = Sequential()\n",
    "model.add(Embedding(voc_size, dim, input_length = input_lenth))\n",
    "model.compile('adam', 'mse')"
   ]
  },
  {
   "cell_type": "code",
   "execution_count": 13,
   "id": "e63dc61c",
   "metadata": {},
   "outputs": [
    {
     "name": "stdout",
     "output_type": "stream",
     "text": [
      "Model: \"sequential_1\"\n",
      "_________________________________________________________________\n",
      " Layer (type)                Output Shape              Param #   \n",
      "=================================================================\n",
      " embedding (Embedding)       (None, 5, 8)              80000     \n",
      "                                                                 \n",
      "=================================================================\n",
      "Total params: 80000 (312.50 KB)\n",
      "Trainable params: 80000 (312.50 KB)\n",
      "Non-trainable params: 0 (0.00 Byte)\n",
      "_________________________________________________________________\n"
     ]
    }
   ],
   "source": [
    "model.summary()"
   ]
  },
  {
   "cell_type": "code",
   "execution_count": 14,
   "id": "43fac324",
   "metadata": {},
   "outputs": [
    {
     "name": "stdout",
     "output_type": "stream",
     "text": [
      "1/1 [==============================] - 1s 1s/step\n"
     ]
    },
    {
     "data": {
      "text/plain": [
       "array([[[ 2.4888802e-02, -3.7235774e-02,  4.4332173e-02,  9.7999796e-03,\n",
       "         -2.7106656e-02,  4.3215267e-03, -1.8752445e-02,  1.8859420e-02],\n",
       "        [-4.9714148e-02,  2.1331456e-02, -3.7761461e-02, -1.9961894e-02,\n",
       "         -1.9004829e-03,  4.0973973e-02, -4.6014976e-02,  1.8280927e-02],\n",
       "        [ 3.8677935e-02, -3.8775325e-02,  2.2507284e-02,  2.1509457e-02,\n",
       "         -2.9908825e-02,  1.2042426e-02, -3.2989278e-02,  3.4785639e-02],\n",
       "        [-9.3026273e-03,  3.5511617e-02,  4.3200981e-02, -3.5400309e-02,\n",
       "          1.9580770e-02, -1.4835320e-02,  3.3460762e-02,  5.1396862e-03],\n",
       "        [ 2.9377613e-02,  2.8925922e-02,  4.3902252e-02, -1.5206791e-02,\n",
       "          3.4483936e-02,  1.8183317e-02, -2.0998288e-02, -2.5675714e-02]],\n",
       "\n",
       "       [[ 3.8825367e-02,  4.4677369e-03,  3.2809231e-02,  3.2334808e-02,\n",
       "          2.5946926e-02,  4.7038462e-02,  3.1646144e-02,  2.0494685e-03],\n",
       "        [-4.1261539e-03,  3.7489403e-02,  3.4706164e-02, -8.3554536e-05,\n",
       "          4.2493943e-02, -1.0806549e-02,  2.2999171e-02, -4.8638999e-02],\n",
       "        [ 2.8750483e-02, -3.4743536e-02, -3.2241870e-02, -4.6647955e-02,\n",
       "          4.2361032e-02,  3.3878747e-02, -1.4185917e-02,  3.0584637e-02],\n",
       "        [ 3.2853112e-03, -1.9849945e-02,  2.6079703e-02,  3.4986828e-02,\n",
       "         -2.1812022e-02,  2.6592348e-02,  4.7541272e-02,  2.2540834e-02],\n",
       "        [ 3.7205443e-03,  3.4084011e-02,  3.1876791e-02,  1.8907014e-02,\n",
       "          4.4601988e-02, -4.4766095e-02,  8.6845085e-04,  1.4014792e-02]],\n",
       "\n",
       "       [[ 3.8825367e-02,  4.4677369e-03,  3.2809231e-02,  3.2334808e-02,\n",
       "          2.5946926e-02,  4.7038462e-02,  3.1646144e-02,  2.0494685e-03],\n",
       "        [ 1.2005329e-02, -3.6050305e-03, -7.5246096e-03, -3.7265800e-02,\n",
       "          4.7295954e-02, -2.7118910e-02, -1.4039934e-02, -4.3809988e-02],\n",
       "        [-4.9897183e-02,  3.9091792e-02, -4.6097264e-03,  8.9560151e-03,\n",
       "         -4.5101225e-02, -1.3380419e-02, -4.3450713e-02,  5.4732077e-03],\n",
       "        [ 1.1685751e-02, -4.9970638e-02,  3.8090516e-02, -4.3373108e-02,\n",
       "         -2.9881358e-02,  4.3119635e-02,  3.3156287e-02,  1.2240898e-02],\n",
       "        [-1.9854724e-02, -4.8619974e-02,  4.8063543e-02, -4.8648566e-05,\n",
       "         -4.0087603e-02, -2.3160493e-02,  4.6529781e-02, -3.0302202e-02]],\n",
       "\n",
       "       [[ 1.0891259e-02, -2.1945227e-02, -4.2865992e-02,  1.8529285e-02,\n",
       "          1.6793776e-02, -1.3998486e-02,  3.3084381e-02, -9.3911961e-04],\n",
       "        [-4.3885317e-02,  1.7696414e-02, -4.5110155e-02,  1.1538975e-03,\n",
       "          1.0385886e-03, -2.2903716e-02,  8.3299056e-03, -4.9489319e-02],\n",
       "        [ 1.1685751e-02, -4.9970638e-02,  3.8090516e-02, -4.3373108e-02,\n",
       "         -2.9881358e-02,  4.3119635e-02,  3.3156287e-02,  1.2240898e-02],\n",
       "        [ 4.6632256e-02,  3.7363600e-02,  1.4177229e-02, -1.0917246e-02,\n",
       "          1.8481184e-02,  3.6286477e-02, -4.8703421e-02,  3.5916690e-02],\n",
       "        [-3.1295978e-02, -3.7038755e-02,  2.8955806e-02,  3.2168541e-02,\n",
       "          2.7480390e-02,  4.5764934e-02, -3.0312061e-02, -4.8313856e-02]]],\n",
       "      dtype=float32)"
      ]
     },
     "execution_count": 14,
     "metadata": {},
     "output_type": "execute_result"
    }
   ],
   "source": [
    "model.predict(embed_docs)"
   ]
  },
  {
   "cell_type": "code",
   "execution_count": 15,
   "id": "4fa17b08",
   "metadata": {},
   "outputs": [
    {
     "data": {
      "text/plain": [
       "array([   0, 7840, 5973, 6322, 3888])"
      ]
     },
     "execution_count": 15,
     "metadata": {},
     "output_type": "execute_result"
    }
   ],
   "source": [
    "embed_docs[0]"
   ]
  },
  {
   "cell_type": "code",
   "execution_count": 17,
   "id": "5cfa1846",
   "metadata": {},
   "outputs": [
    {
     "name": "stdout",
     "output_type": "stream",
     "text": [
      "1/1 [==============================] - 0s 33ms/step\n"
     ]
    },
    {
     "data": {
      "text/plain": [
       "array([[ 0.0248888 , -0.03723577,  0.04433217,  0.00979998, -0.02710666,\n",
       "         0.00432153, -0.01875244,  0.01885942],\n",
       "       [-0.04971415,  0.02133146, -0.03776146, -0.01996189, -0.00190048,\n",
       "         0.04097397, -0.04601498,  0.01828093],\n",
       "       [ 0.03867793, -0.03877532,  0.02250728,  0.02150946, -0.02990882,\n",
       "         0.01204243, -0.03298928,  0.03478564],\n",
       "       [-0.00930263,  0.03551162,  0.04320098, -0.03540031,  0.01958077,\n",
       "        -0.01483532,  0.03346076,  0.00513969],\n",
       "       [ 0.02937761,  0.02892592,  0.04390225, -0.01520679,  0.03448394,\n",
       "         0.01818332, -0.02099829, -0.02567571]], dtype=float32)"
      ]
     },
     "execution_count": 17,
     "metadata": {},
     "output_type": "execute_result"
    }
   ],
   "source": [
    "model.predict(embed_docs[0])"
   ]
  },
  {
   "cell_type": "code",
   "execution_count": null,
   "id": "e6294102",
   "metadata": {},
   "outputs": [],
   "source": []
  }
 ],
 "metadata": {
  "kernelspec": {
   "display_name": "Python 3",
   "language": "python",
   "name": "python3"
  },
  "language_info": {
   "codemirror_mode": {
    "name": "ipython",
    "version": 3
   },
   "file_extension": ".py",
   "mimetype": "text/x-python",
   "name": "python",
   "nbconvert_exporter": "python",
   "pygments_lexer": "ipython3",
   "version": "3.11.0"
  }
 },
 "nbformat": 4,
 "nbformat_minor": 5
}
