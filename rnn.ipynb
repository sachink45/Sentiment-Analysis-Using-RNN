{
 "cells": [
  {
   "cell_type": "code",
   "execution_count": 7,
   "id": "8910a899",
   "metadata": {},
   "outputs": [],
   "source": [
    "import numpy as np\n",
    "import pandas as pd\n",
    "from tensorflow.keras.datasets import imdb\n",
    "from tensorflow.keras.preprocessing import sequence\n",
    "from tensorflow.keras.layers import SimpleRNN, Dense, Embedding\n",
    "from tensorflow.keras.layers import Embedding\n",
    "from tensorflow.keras.utils import pad_sequences\n",
    "from tensorflow.keras.models import Sequential"
   ]
  },
  {
   "cell_type": "code",
   "execution_count": 2,
   "id": "46017152",
   "metadata": {},
   "outputs": [
    {
     "name": "stdout",
     "output_type": "stream",
     "text": [
      "(25000,) (25000,)\n",
      "(25000,) (25000,)\n"
     ]
    }
   ],
   "source": [
    "# load the imdb dataset\n",
    "\n",
    "voc_size = 10000\n",
    "(X_train, y_train), (X_test, y_test) = imdb.load_data(num_words = voc_size)\n",
    "\n",
    "print(X_train.shape, y_train.shape)\n",
    "print(X_test.shape, y_test.shape)"
   ]
  },
  {
   "cell_type": "code",
   "execution_count": 4,
   "id": "d03138fb",
   "metadata": {},
   "outputs": [],
   "source": [
    "# X_train[0], y_train[0]"
   ]
  },
  {
   "cell_type": "code",
   "execution_count": 5,
   "id": "dc8c0651",
   "metadata": {},
   "outputs": [],
   "source": [
    "from tensorflow.keras.preprocessing import sequence\n",
    "\n",
    "maxlen = 500\n",
    "\n",
    "X_train = sequence.pad_sequences(X_train, maxlen= maxlen)\n",
    "X_test = sequence.pad_sequences(X_test, maxlen= maxlen)"
   ]
  },
  {
   "cell_type": "code",
   "execution_count": 6,
   "id": "bdb282df",
   "metadata": {},
   "outputs": [
    {
     "data": {
      "text/plain": [
       "array([[   0,    0,    0, ...,   19,  178,   32],\n",
       "       [   0,    0,    0, ...,   16,  145,   95],\n",
       "       [   0,    0,    0, ...,    7,  129,  113],\n",
       "       ...,\n",
       "       [   0,    0,    0, ...,    4, 3586,    2],\n",
       "       [   0,    0,    0, ...,   12,    9,   23],\n",
       "       [   0,    0,    0, ...,  204,  131,    9]])"
      ]
     },
     "execution_count": 6,
     "metadata": {},
     "output_type": "execute_result"
    }
   ],
   "source": [
    "X_train"
   ]
  },
  {
   "cell_type": "code",
   "execution_count": 11,
   "id": "68dee866",
   "metadata": {},
   "outputs": [],
   "source": [
    "# RNN\n",
    "\n",
    "model = Sequential()\n",
    "model.add(Embedding(voc_size, 128, input_length = maxlen))\n",
    "model.add(SimpleRNN(264, activation='relu'))\n",
    "model.add(Dense(1, activation = 'sigmoid'))"
   ]
  },
  {
   "cell_type": "code",
   "execution_count": 18,
   "id": "a178d3e7",
   "metadata": {},
   "outputs": [],
   "source": [
    "model.compile(optimizer='adam', loss = 'binary_crossentropy', metrics = ['accuracy'])"
   ]
  },
  {
   "cell_type": "code",
   "execution_count": 19,
   "id": "782419e2",
   "metadata": {},
   "outputs": [
    {
     "name": "stdout",
     "output_type": "stream",
     "text": [
      "Model: \"sequential_2\"\n",
      "_________________________________________________________________\n",
      " Layer (type)                Output Shape              Param #   \n",
      "=================================================================\n",
      " embedding_1 (Embedding)     (None, 500, 128)          1280000   \n",
      "                                                                 \n",
      " simple_rnn_1 (SimpleRNN)    (None, 264)               103752    \n",
      "                                                                 \n",
      " dense_1 (Dense)             (None, 1)                 265       \n",
      "                                                                 \n",
      "=================================================================\n",
      "Total params: 1384017 (5.28 MB)\n",
      "Trainable params: 1384017 (5.28 MB)\n",
      "Non-trainable params: 0 (0.00 Byte)\n",
      "_________________________________________________________________\n"
     ]
    }
   ],
   "source": [
    "model.summary()"
   ]
  },
  {
   "cell_type": "code",
   "execution_count": 30,
   "id": "68365856",
   "metadata": {},
   "outputs": [],
   "source": [
    "# Create an instance of earlystopping callback\n",
    "\n",
    "from tensorflow.keras.callbacks import EarlyStopping\n",
    "early_stopp = EarlyStopping(monitor = 'val_loss', patience = 3, restore_best_weights = True)"
   ]
  },
  {
   "cell_type": "code",
   "execution_count": 31,
   "id": "3c284cca",
   "metadata": {},
   "outputs": [
    {
     "name": "stdout",
     "output_type": "stream",
     "text": [
      "Epoch 1/10\n",
      "313/313 [==============================] - 151s 473ms/step - loss: 0.2916 - accuracy: 0.8916 - val_loss: 0.5196 - val_accuracy: 0.7646\n",
      "Epoch 2/10\n",
      "313/313 [==============================] - 152s 485ms/step - loss: 0.2708 - accuracy: 0.8999 - val_loss: 0.4920 - val_accuracy: 0.7816\n",
      "Epoch 3/10\n",
      "313/313 [==============================] - 149s 476ms/step - loss: 0.2932 - accuracy: 0.8897 - val_loss: 0.5021 - val_accuracy: 0.7620\n",
      "Epoch 4/10\n",
      "313/313 [==============================] - 134s 427ms/step - loss: 0.2458 - accuracy: 0.9141 - val_loss: 0.5175 - val_accuracy: 0.7820\n",
      "Epoch 5/10\n",
      "313/313 [==============================] - 143s 458ms/step - loss: 0.2287 - accuracy: 0.9190 - val_loss: 0.5356 - val_accuracy: 0.7744\n"
     ]
    }
   ],
   "source": [
    "# traning \n",
    "\n",
    "model_history = model.fit(\n",
    "    X_train, y_train, epochs = 10, batch_size = 64, validation_split = 0.2, callbacks = [early_stopp]\n",
    ")"
   ]
  },
  {
   "cell_type": "code",
   "execution_count": 32,
   "id": "fab41a93",
   "metadata": {},
   "outputs": [],
   "source": [
    "model.save('RNN.h5')"
   ]
  },
  {
   "cell_type": "code",
   "execution_count": 29,
   "id": "d002b394",
   "metadata": {},
   "outputs": [
    {
     "name": "stdout",
     "output_type": "stream",
     "text": [
      "782/782 [==============================] - 116s 149ms/step - loss: 0.5146 - accuracy: 0.7538\n"
     ]
    },
    {
     "data": {
      "text/plain": [
       "[0.5146459341049194, 0.7537599802017212]"
      ]
     },
     "execution_count": 29,
     "metadata": {},
     "output_type": "execute_result"
    }
   ],
   "source": [
    "model.evaluate(X_test, y_test)"
   ]
  },
  {
   "cell_type": "code",
   "execution_count": null,
   "id": "b92e1b06",
   "metadata": {},
   "outputs": [],
   "source": []
  }
 ],
 "metadata": {
  "kernelspec": {
   "display_name": "Python 3",
   "language": "python",
   "name": "python3"
  },
  "language_info": {
   "codemirror_mode": {
    "name": "ipython",
    "version": 3
   },
   "file_extension": ".py",
   "mimetype": "text/x-python",
   "name": "python",
   "nbconvert_exporter": "python",
   "pygments_lexer": "ipython3",
   "version": "3.11.0"
  }
 },
 "nbformat": 4,
 "nbformat_minor": 5
}
